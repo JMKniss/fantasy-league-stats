{
 "cells": [
  {
   "cell_type": "markdown",
   "id": "c2aab02a",
   "metadata": {},
   "source": [
    "# We Are How You Mean\n",
    "## Important, real stats that matter"
   ]
  },
  {
   "cell_type": "code",
   "execution_count": 1,
   "id": "f49e1f83-70e6-47c8-b967-5562ac8b2ca3",
   "metadata": {},
   "outputs": [],
   "source": [
    "import pandas as pd\n",
    "import csv\n",
    "import os"
   ]
  },
  {
   "cell_type": "markdown",
   "id": "6f6028e2",
   "metadata": {},
   "source": [
    "## Managers and Team Names"
   ]
  },
  {
   "cell_type": "code",
   "execution_count": 2,
   "id": "875600e5-0598-48ec-8013-9917b35f5497",
   "metadata": {},
   "outputs": [],
   "source": [
    "# teams list\n",
    "teams = {\"Tim\" : \"Violent Tyreke Roadshow\",\n",
    "         \"Scott\" : \"MT KilledbyLamaro\",\n",
    "         \"Johnny\" : \"2 Brothers in a Chiefs Van\",\n",
    "         \"JT\" : \"We Are Climbing High\",\n",
    "         \"Matt\" : \"Mike Evans down your Vincents\",\n",
    "         \"Tyler\" : \"Pirates of the Pancreas\",\n",
    "         \"Brian\" : \"MuscularMoore'sTurbulentJuice\",\n",
    "         \"Jason\" : \"footBall Fondlers\",\n",
    "         \"Kevin\" : \"Three unmuscular Michaels jr.\",\n",
    "         \"David\" : \"Ants In My Eyes Jackson\"}"
   ]
  },
  {
   "cell_type": "markdown",
   "id": "825f5a88-e7d8-49b8-b979-64984057016b",
   "metadata": {},
   "source": [
    "## Load and Update Scores and Matchups\n",
    "### Functions for Scores"
   ]
  },
  {
   "cell_type": "code",
   "execution_count": 3,
   "id": "0c372922-edff-464c-9027-b1627ea6b965",
   "metadata": {},
   "outputs": [],
   "source": [
    "# Initialize weekly scores\n",
    "def initialize_scores():\n",
    "    weekly_scores = {manager: {f\"Week {week}\": 0 for week in range(1, 18)} for manager in teams}\n",
    "    return weekly_scores\n",
    "\n",
    "# Save scores to CSV\n",
    "def save_scores_to_csv(weekly_scores, filename='weekly_scores.csv'):\n",
    "    with open(filename, mode='w', newline='') as file:\n",
    "        writer = csv.writer(file)\n",
    "        header = [\"Manager\"] + [f\"Week {week}\" for week in range(1, 18)]\n",
    "        writer.writerow(header)\n",
    "        \n",
    "        for manager, scores in weekly_scores.items():\n",
    "            row = [manager] + [scores[f\"Week {week}\"] for week in range(1, 18)]\n",
    "            writer.writerow(row)\n",
    "\n",
    "# Load scores from CSV\n",
    "def load_scores_from_csv(filename='weekly_scores.csv'):\n",
    "    if not os.path.exists(filename):\n",
    "        return initialize_scores()\n",
    "    \n",
    "    weekly_scores = {}\n",
    "    with open(filename, mode='r') as file:\n",
    "        reader = csv.reader(file)\n",
    "        next(reader)  # Skip the header\n",
    "        for row in reader:\n",
    "            manager = row[0]\n",
    "            scores = {f\"Week {i+1}\": float(row[i+1]) if row[i+1] else 0 for i in range(17)}\n",
    "            weekly_scores[manager] = scores\n",
    "    return weekly_scores\n",
    "\n",
    "# Update scores for a specific week\n",
    "def update_weekly_scores(weekly_scores):\n",
    "    # Ask for the week number\n",
    "    while True:\n",
    "        try:\n",
    "            week = int(input(\"What week do you want to update? (1-17): \"))\n",
    "            if 1 <= week <= 17:\n",
    "                break\n",
    "            else:\n",
    "                print(\"Please enter a valid week number between 1 and 17.\")\n",
    "        except ValueError:\n",
    "            print(\"Please enter a valid number.\")\n",
    "    \n",
    "    # Loop through each manager and update the score\n",
    "    for manager in weekly_scores:\n",
    "        try:\n",
    "            score = float(input(f\"What did {manager} score in Week {week}? \"))\n",
    "            weekly_scores[manager][f\"Week {week}\"] = score\n",
    "        except ValueError:\n",
    "            print(\"Please enter a valid score (numeric).\")\n",
    "\n",
    "    # Save updated scores to CSV\n",
    "    save_scores_to_csv(weekly_scores)\n",
    "    print(f\"Scores for Week {week} updated successfully and saved.\")\n",
    "\n",
    "# Function to update an individual score\n",
    "def update_individual_score(weekly_scores):\n",
    "    # Ask for the manager's name\n",
    "    manager = input(\"Which manager's score do you want to update? \").strip()\n",
    "    \n",
    "    if manager not in weekly_scores:\n",
    "        print(\"Manager not found. Please make sure the name is correct.\")\n",
    "        return\n",
    "    \n",
    "    # Ask for the week number\n",
    "    while True:\n",
    "        try:\n",
    "            week = int(input(f\"What week do you want to update for {manager}? (1-17): \"))\n",
    "            if 1 <= week <= 17:\n",
    "                break\n",
    "            else:\n",
    "                print(\"Please enter a valid week number between 1 and 17.\")\n",
    "        except ValueError:\n",
    "            print(\"Please enter a valid number.\")\n",
    "    \n",
    "    # Update the score\n",
    "    try:\n",
    "        score = float(input(f\"What did {manager} score in Week {week}? \"))\n",
    "        weekly_scores[manager][f\"Week {week}\"] = score\n",
    "        save_scores_to_csv(weekly_scores)\n",
    "        print(f\"Score for {manager} in Week {week} updated successfully and saved.\")\n",
    "    except ValueError:\n",
    "        print(\"Please enter a valid score (numeric).\")"
   ]
  },
  {
   "cell_type": "markdown",
   "id": "79d9766d-da0c-4976-b90a-ed167e69d245",
   "metadata": {},
   "source": [
    "### Functions for Matchups"
   ]
  },
  {
   "cell_type": "code",
   "execution_count": 4,
   "id": "04c85201-513b-4d7c-aa69-e0919c874d61",
   "metadata": {},
   "outputs": [],
   "source": [
    "# Initialize the weekly matchups\n",
    "def initialize_matchups():\n",
    "    weekly_matchups = {manager: {f\"Week {week}\": None for week in range(1, 18)} for manager in teams}\n",
    "    return weekly_matchups\n",
    "\n",
    "# Save matchups to CSV\n",
    "def save_matchups_to_csv(weekly_matchups, filename='weekly_matchups.csv'):\n",
    "    with open(filename, mode='w', newline='') as file:\n",
    "        writer = csv.writer(file)\n",
    "        header = [\"Manager\"] + [f\"Week {week}\" for week in range(1, 18)]\n",
    "        writer.writerow(header)\n",
    "        \n",
    "        for manager, matchups in weekly_matchups.items():\n",
    "            row = [manager] + [matchups[f\"Week {week}\"] if matchups[f\"Week {week}\"] else \"\" for week in range(1, 18)]\n",
    "            writer.writerow(row)\n",
    "\n",
    "# Load matchups from CSV\n",
    "def load_matchups_from_csv(filename='weekly_matchups.csv'):\n",
    "    if not os.path.exists(filename):\n",
    "        return initialize_matchups()\n",
    "    \n",
    "    weekly_matchups = {}\n",
    "    with open(filename, mode='r') as file:\n",
    "        reader = csv.reader(file)\n",
    "        next(reader)  # Skip the header\n",
    "        for row in reader:\n",
    "            manager = row[0]\n",
    "            matchups = {f\"Week {i+1}\": row[i+1] if row[i+1] else None for i in range(17)}\n",
    "            weekly_matchups[manager] = matchups\n",
    "    return weekly_matchups\n",
    "\n",
    "# Update matchups for a specific week\n",
    "def update_weekly_matchups(weekly_matchups):\n",
    "    # Ask for the week number\n",
    "    while True:\n",
    "        try:\n",
    "            week = int(input(\"What week do you want to update matchups for? (1-17): \"))\n",
    "            if 1 <= week <= 17:\n",
    "                break\n",
    "            else:\n",
    "                print(\"Please enter a valid week number between 1 and 17.\")\n",
    "        except ValueError:\n",
    "            print(\"Please enter a valid number.\")\n",
    "    \n",
    "    # Check if any matchups are already set for the chosen week\n",
    "    already_set = any(weekly_matchups[manager][f\"Week {week}\"] is not None for manager in weekly_matchups)\n",
    "    \n",
    "    # Ask if user wants to reset if matchups already exist\n",
    "    if already_set:\n",
    "        reset = input(f\"Matchups for Week {week} already exist. Do you want to reset them and start over? (yes/no): \").strip().lower()\n",
    "        if reset != 'yes':\n",
    "            print(\"No changes made. Exiting update process.\")\n",
    "            return\n",
    "\n",
    "    # Reset all matchups for the specified week\n",
    "    for manager in weekly_matchups:\n",
    "        weekly_matchups[manager][f\"Week {week}\"] = None\n",
    "\n",
    "    # Loop through each manager to set new matchups\n",
    "    processed_managers = set()  # Keep track of managers we've already processed\n",
    "\n",
    "    for manager in weekly_matchups:\n",
    "        if manager in processed_managers:\n",
    "            continue\n",
    "        \n",
    "        # Ask who this manager played\n",
    "        while True:\n",
    "            opponent = input(f\"Who did {manager} play in Week {week}? \").strip()\n",
    "\n",
    "            # Validate opponent exists, is not the same as the manager, and has not been processed yet\n",
    "            if opponent not in teams or opponent == manager:\n",
    "                print(f\"{opponent} is not a recognized or valid opponent. Please try again.\")\n",
    "                continue\n",
    "            \n",
    "            # Check if opponent has already been processed\n",
    "            if opponent in processed_managers:\n",
    "                print(f\"{opponent} has already been assigned a matchup. Please choose another opponent.\")\n",
    "                continue\n",
    "\n",
    "            # If valid, update matchups symmetrically and mark both as processed\n",
    "            weekly_matchups[manager][f\"Week {week}\"] = opponent\n",
    "            weekly_matchups[opponent][f\"Week {week}\"] = manager\n",
    "            processed_managers.update([manager, opponent])\n",
    "            break\n",
    "\n",
    "    # Save updated matchups to CSV\n",
    "    save_matchups_to_csv(weekly_matchups)\n",
    "    print(f\"Matchups for Week {week} have been reset and updated successfully.\")\n",
    "\n",
    "\n",
    "# Function to update an individual matchup\n",
    "def update_individual_matchup(weekly_matchups):\n",
    "    # Ask for the manager's name\n",
    "    manager = input(\"Which manager's matchup do you want to update? \").strip()\n",
    "    \n",
    "    if manager not in weekly_matchups:\n",
    "        print(\"Manager not found. Please make sure the name is correct.\")\n",
    "        return\n",
    "    \n",
    "    # Ask for the week number\n",
    "    while True:\n",
    "        try:\n",
    "            week = int(input(f\"What week do you want to update for {manager}? (1-17): \"))\n",
    "            if 1 <= week <= 17:\n",
    "                break\n",
    "            else:\n",
    "                print(\"Please enter a valid week number between 1 and 17.\")\n",
    "        except ValueError:\n",
    "            print(\"Please enter a valid number.\")\n",
    "    \n",
    "    # Ask for the opponent\n",
    "    opponent = input(f\"Who did {manager} play in Week {week}? \").strip()\n",
    "    \n",
    "    if opponent not in weekly_matchups:\n",
    "        print(f\"{opponent} is not a recognized manager. Please try again.\")\n",
    "        return\n",
    "    \n",
    "    # Update the matchup symmetrically\n",
    "    weekly_matchups[manager][f\"Week {week}\"] = opponent\n",
    "    weekly_matchups[opponent][f\"Week {week}\"] = manager\n",
    "    save_matchups_to_csv(weekly_matchups)\n",
    "    print(f\"Matchup for {manager} in Week {week} updated successfully and saved.\")"
   ]
  },
  {
   "cell_type": "markdown",
   "id": "9902939d-cc12-4a33-95cc-746eec5f5ca1",
   "metadata": {},
   "source": [
    "### Load existing stats"
   ]
  },
  {
   "cell_type": "code",
   "execution_count": 5,
   "id": "de025335-027e-4545-81bf-58346a17d069",
   "metadata": {},
   "outputs": [],
   "source": [
    "# Initialize or load the weekly scores\n",
    "weekly_scores = load_scores_from_csv()"
   ]
  },
  {
   "cell_type": "code",
   "execution_count": 6,
   "id": "5d211b3e-6922-4ad8-8f15-55864f6b6946",
   "metadata": {},
   "outputs": [],
   "source": [
    "# Initialize or load the weekly matchups\n",
    "weekly_matchups = load_matchups_from_csv()"
   ]
  },
  {
   "cell_type": "markdown",
   "id": "267d8164-dab5-45a8-93f8-60d24838f84c",
   "metadata": {},
   "source": [
    "### Update Scores"
   ]
  },
  {
   "cell_type": "code",
   "execution_count": 7,
   "id": "3ebdb02f-b786-48cf-a651-220262f2b99d",
   "metadata": {},
   "outputs": [],
   "source": [
    "# # To update scores, call:\n",
    "# update_weekly_scores(weekly_scores)"
   ]
  },
  {
   "cell_type": "code",
   "execution_count": 8,
   "id": "82913b0b-9183-48ed-abaf-ada3673b4f70",
   "metadata": {},
   "outputs": [],
   "source": [
    "# # To correct or update and individual score\n",
    "# update_individual_score(weekly_scores)"
   ]
  },
  {
   "cell_type": "markdown",
   "id": "559740c6-d3c2-4041-83e6-5d39605abc06",
   "metadata": {},
   "source": [
    "### Update Matchups"
   ]
  },
  {
   "cell_type": "code",
   "execution_count": 9,
   "id": "e1a8c015-b2e6-4b10-bffc-ed3a19138911",
   "metadata": {},
   "outputs": [],
   "source": [
    "# # To update matchups for all managers in a specific week\n",
    "# update_weekly_matchups(weekly_matchups)"
   ]
  },
  {
   "cell_type": "code",
   "execution_count": 10,
   "id": "d3ff5777-7c73-484a-989f-c573978f48a9",
   "metadata": {},
   "outputs": [],
   "source": [
    "# # To update an individual manager's matchup for a specific week\n",
    "# update_individual_matchup(weekly_matchups)"
   ]
  },
  {
   "cell_type": "markdown",
   "id": "cad0623d-3de8-4c37-936a-a37e93d83dd4",
   "metadata": {},
   "source": [
    "## Basic statistics\n",
    "\n",
    "#### Standings, Average, Average range, Best Score, Worst Score"
   ]
  },
  {
   "cell_type": "markdown",
   "id": "602f3c59-5046-4a94-a8e5-f7141633e7a1",
   "metadata": {},
   "source": [
    "## Alternate Records\n",
    "\n",
    "#### Standings vs All Teams, Alternate Schedules, Standings w/ Median Scoring"
   ]
  }
 ],
 "metadata": {
  "kernelspec": {
   "display_name": "Python 3 (ipykernel)",
   "language": "python",
   "name": "python3"
  },
  "language_info": {
   "codemirror_mode": {
    "name": "ipython",
    "version": 3
   },
   "file_extension": ".py",
   "mimetype": "text/x-python",
   "name": "python",
   "nbconvert_exporter": "python",
   "pygments_lexer": "ipython3",
   "version": "3.12.2"
  }
 },
 "nbformat": 4,
 "nbformat_minor": 5
}
