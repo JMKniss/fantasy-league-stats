{
 "cells": [
  {
   "cell_type": "markdown",
   "id": "c2aab02a",
   "metadata": {},
   "source": [
    "# Fantasy Football Weekly Results Analysis\n",
    "\n",
    "This notebook is designed to track and analyze weekly fantasy football scores and matchups."
   ]
  },
  {
   "cell_type": "markdown",
   "id": "6f6028e2",
   "metadata": {},
   "source": [
    "## Players and Weeks\n",
    "\n",
    "We have 10 players participating in this league, and we are tracking their weekly performance over 12 weeks."
   ]
  },
  {
   "cell_type": "code",
   "execution_count": null,
   "id": "367604f5",
   "metadata": {},
   "outputs": [],
   "source": [
    "\n",
    "import pandas as pd\n",
    "\n",
    "# Players list\n",
    "players = [\"Tim\", \"Scott\", \"Johnny\", \"JT\", \"Matt\", \"Tyler\", \"Brian\", \"Jason\", \"Kevin\", \"David\"]\n",
    "\n",
    "# Weeks\n",
    "weeks = list(range(1, 13))\n",
    "\n",
    "# Weekly Points For each player\n",
    "points_for = {\n",
    "    \"Tim\":    [92.96, 125.7, 121.26, 128.98, 68.12, 124.78, 111.6, 138.12, 116.86, 127.38, 76.26, 129.84],\n",
    "    \"Scott\":  [64.66, 156.28, 149.28, 68.14, 150.14, 94.22, 145.88, 99.88, 64.58, 110.22, 112.36, 102.18],\n",
    "    \"Johnny\": [105.5, 130.12, 110.18, 134.16, 65.52, 68.9, 81.66, 121.06, 86.98, 97.62, 102.6, 131.0],\n",
    "    \"JT\":     [89.46, 95.3, 105.26, 149.52, 134.68, 79.2, 71.96, 119.32, 85.2, 105.08, 105.8, 106.46],\n",
    "    \"Matt\":   [117.64, 93.34, 127.26, 86.04, 98.98, 99.34, 74.64, 86.18, 131.0, 112.64, 103.94, 128.86],\n",
    "    \"Tyler\":  [94.38, 109.58, 85.74, 90.1, 68.46, 100.2, 83.6, 133.12, 119.42, 126.08, 91.64, 100.78],\n",
    "    \"Brian\":  [84.54, 103.7, 85.78, 111.42, 94.34, 68.36, 118.3, 101.56, 57.22, 83.16, 103.96, 76.54],\n",
    "    \"Jason\":  [69.24, 72.56, 112.62, 122.7, 132.16, 82.24, 105.36, 99.04, 100.9, 91.92, 86.98, 144.86],\n",
    "    \"Kevin\":  [82.86, 125.66, 88.88, 60.26, 79.16, 68.64, 96.42, 107.56, 101.2, 86.22, 87.1, 45.86],\n",
    "    \"David\":  [94.14, 72.94, 89.66, 64.66, 76.62, 70.02, 69.44, 77.76, 74.72, 78.5, 96.76, 88.78]\n",
    "}\n",
    "\n",
    "# Convert the weekly points data into a DataFrame\n",
    "points_df = pd.DataFrame(points_for, index=weeks)\n",
    "points_df.index.name = \"Week\"\n",
    "\n",
    "# Display the resulting DataFrame\n",
    "points_df\n"
   ]
  },
  {
   "cell_type": "markdown",
   "id": "e58bd36e",
   "metadata": {},
   "source": [
    "## Opponent Data\n",
    "\n",
    "In addition to the weekly scores, we also have data on which player faced which opponent each week."
   ]
  },
  {
   "cell_type": "code",
   "execution_count": null,
   "id": "cb2f45f8",
   "metadata": {},
   "outputs": [],
   "source": [
    "\n",
    "# Opponent mapping (represented by names)\n",
    "opponents = {\n",
    "    \"Tim\":    [\"Kevin\", \"Jason\", \"David\", \"Matt\", \"Johnny\", \"JT\", \"Tyler\", \"Scott\", \"David\", \"Tyler\", \"Jason\", \"Brian\"],\n",
    "    \"Scott\":  [\"Johnny\", \"Tyler\", \"Jason\", \"David\", \"Matt\", \"Johnny\", \"Brian\", \"Tim\", \"Tyler\", \"JT\", \"Matt\", \"Kevin\"],\n",
    "    \"Johnny\": [\"Scott\", \"Matt\", \"Kevin\", \"Jason\", \"Tim\", \"Scott\", \"JT\", \"Tyler\", \"Jason\", \"Kevin\", \"Tyler\", \"David\"],\n",
    "    \"JT\":     [\"Matt\", \"Kevin\", \"Tyler\", \"Brian\", \"David\", \"Tim\", \"Johnny\", \"Brian\", \"Matt\", \"Scott\", \"Kevin\", \"Jason\"],\n",
    "    \"Matt\":   [\"JT\", \"Johnny\", \"Brian\", \"Tim\", \"Scott\", \"David\", \"Kevin\", \"Jason\", \"JT\", \"David\", \"Scott\", \"Tyler\"],\n",
    "    \"Tyler\":  [\"David\", \"Scott\", \"JT\", \"Kevin\", \"Jason\", \"Brian\", \"Tim\", \"Johnny\", \"Scott\", \"Tim\", \"Johnny\", \"Matt\"],\n",
    "    \"Brian\":  [\"Jason\", \"David\", \"Matt\", \"JT\", \"Kevin\", \"Tyler\", \"Scott\", \"JT\", \"Kevin\", \"Jason\", \"David\", \"Tim\"],\n",
    "    \"Jason\":  [\"Brian\", \"Tim\", \"Scott\", \"Johnny\", \"Tyler\", \"Kevin\", \"David\", \"Matt\", \"Johnny\", \"Brian\", \"Tim\", \"JT\"],\n",
    "    \"Kevin\":  [\"Tim\", \"JT\", \"Johnny\", \"Tyler\", \"Brian\", \"Jason\", \"Matt\", \"David\", \"Brian\", \"Johnny\", \"JT\", \"Scott\"],\n",
    "    \"David\":  [\"Tyler\", \"Brian\", \"Tim\", \"Scott\", \"JT\", \"Matt\", \"Jason\", \"Kevin\", \"Tim\", \"Matt\", \"Brian\", \"Johnny\"]\n",
    "}\n",
    "\n",
    "# Displaying the opponent data\n",
    "pd.DataFrame(opponents, index=weeks)\n"
   ]
  },
  {
   "cell_type": "markdown",
   "id": "6380d070",
   "metadata": {},
   "source": [
    "## Further Analysis\n",
    "\n",
    "With this setup, you can now start analyzing weekly performances, compare scores, and explore matchups."
   ]
  },
  {
   "cell_type": "markdown",
   "id": "c08da4c2",
   "metadata": {},
   "source": [
    "## Points Against Matrix and Consistency Metric\n",
    "\n",
    "The Points Against (PA) matrix calculates the points scored against each player by their opponents each week. We also calculate a consistency metric for each player, measuring the coefficient of variation (CV) of their scores."
   ]
  },
  {
   "cell_type": "code",
   "execution_count": null,
   "id": "05503ae0",
   "metadata": {},
   "outputs": [],
   "source": [
    "\n",
    "import numpy as np\n",
    "\n",
    "# Create Points Against (PA) Matrix\n",
    "pa_mat = np.zeros((10, len(weeks)))\n",
    "\n",
    "# Convert the opponent names into indices for easier lookup\n",
    "opponent_indices = {name: idx for idx, name in enumerate(players)}\n",
    "\n",
    "for m in range(10):  # For each player\n",
    "    for n in range(len(weeks)):  # For each week\n",
    "        opponent = opponents[players[m]][n]\n",
    "        opponent_idx = opponent_indices[opponent]\n",
    "        pa_mat[m, n] = points_df.iloc[n, opponent_idx]\n",
    "\n",
    "# Consistency metric (CV = std/mean)\n",
    "cv = {}\n",
    "for player in players:\n",
    "    cv[player] = np.std(points_for[player]) / np.mean(points_for[player])\n",
    "\n",
    "# Consistency matrix: 1/CV (higher values = more consistent)\n",
    "consistency_mat = np.array([1 / cv[player] for player in players])\n",
    "\n",
    "pa_mat, consistency_mat\n"
   ]
  },
  {
   "cell_type": "markdown",
   "id": "74bcc40e",
   "metadata": {},
   "source": [
    "## Simulating Alternative Schedules\n",
    "\n",
    "This section simulates alternative schedules for each player. It compares each player's score in an alternate schedule against both their own median score and their opponents' scores."
   ]
  },
  {
   "cell_type": "code",
   "execution_count": null,
   "id": "e5d48d5b",
   "metadata": {},
   "outputs": [],
   "source": [
    "\n",
    "# Alternative schedule simulation\n",
    "alt_records_median_fixed = np.zeros((10, 10, len(weeks)))\n",
    "\n",
    "for k in range(10):  # For each player\n",
    "    for m in range(10):  # For each opponent\n",
    "        for n in range(len(weeks)):  # For each week\n",
    "            player_score = points_df.iloc[n, k]\n",
    "            opponent_idx = opponent_indices[opponents[players[k]][n]]\n",
    "            opponent_score = points_df.iloc[n, opponent_idx]\n",
    "            \n",
    "            if player_score == opponent_score:\n",
    "                alt_records_median_fixed[k, m, n] = player_score > np.median(points_df.iloc[:, n])\n",
    "            else:\n",
    "                alt_records_median_fixed[k, m, n] = player_score > opponent_score\n",
    "\n",
    "alt_records_median_fixed\n"
   ]
  },
  {
   "cell_type": "markdown",
   "id": "b250c7f2",
   "metadata": {},
   "source": [
    "## Boom-Bust Calculations\n",
    "\n",
    "This section calculates the number of elite, great, and bust games for each player, based on median points and top scores."
   ]
  },
  {
   "cell_type": "code",
   "execution_count": null,
   "id": "b7bf7588",
   "metadata": {},
   "outputs": [],
   "source": [
    "\n",
    "# Boom-Bust calculations\n",
    "med_1 = points_df.max(axis=1).mean()  # average top score\n",
    "med_3 = (med_1 + points_df.apply(lambda x: x.nlargest(5).min(), axis=1).mean()) / 2  # avg between top and 5th score\n",
    "med_9 = points_df.min().max()  # worst max score\n",
    "\n",
    "elite_games = (points_df >= med_1).sum(axis=0)\n",
    "great_games = (points_df >= med_3).sum(axis=0)\n",
    "bust_games = (points_df <= med_9).sum(axis=0)\n",
    "\n",
    "elite_games, great_games, bust_games\n"
   ]
  }
 ],
 "metadata": {},
 "nbformat": 4,
 "nbformat_minor": 5
}
